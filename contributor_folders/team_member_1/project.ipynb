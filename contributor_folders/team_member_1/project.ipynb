{
 "cells": [
  {
   "cell_type": "code",
   "execution_count": 2,
   "id": "950519e2-914f-4a3a-9b41-38c23580a98f",
   "metadata": {},
   "outputs": [],
   "source": [
    "import copernicusmarine"
   ]
  },
  {
   "cell_type": "code",
   "execution_count": null,
   "id": "43b7f057-7368-4473-bb86-3ee3870fd390",
   "metadata": {},
   "outputs": [],
   "source": [
    "# Set parameters\n",
    "data_request = {\n",
    "   \"dataset_glorys12v1\" : \"cmems_mod_glo_phy_my_0.083deg_P1D-m\",\n",
    "   \"longitude\" : [-30, -25], \n",
    "   \"latitude\" : [-30,-25],\n",
    "   \"time\" : [\"1993-01-01\", \"2021-06-30\"],\n",
    "   \"variables\" : [\"zos\"]\n",
    "}\n",
    "\n",
    "# Load xarray dataset\n",
    "dat = copernicusmarine.open_dataset(\n",
    "    dataset_id = data_request[\"dataset_glorys12v1\"],\n",
    "    minimum_longitude = data_request[\"longitude\"][0],\n",
    "    maximum_longitude = data_request[\"longitude\"][1],\n",
    "    minimum_latitude = data_request[\"latitude\"][0],\n",
    "    maximum_latitude = data_request[\"latitude\"][1],\n",
    "    start_datetime = data_request[\"time\"][0],\n",
    "    end_datetime = data_request[\"time\"][1],\n",
    "    variables = data_request[\"variables\"]\n",
    ")\n"
   ]
  }
 ],
 "metadata": {
  "kernelspec": {
   "display_name": "Python 3 (ipykernel)",
   "language": "python",
   "name": "python3"
  },
  "language_info": {
   "codemirror_mode": {
    "name": "ipython",
    "version": 3
   },
   "file_extension": ".py",
   "mimetype": "text/x-python",
   "name": "python",
   "nbconvert_exporter": "python",
   "pygments_lexer": "ipython3",
   "version": "3.12.4"
  }
 },
 "nbformat": 4,
 "nbformat_minor": 5
}
