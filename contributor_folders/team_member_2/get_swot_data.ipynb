{
 "cells": [
  {
   "cell_type": "code",
   "execution_count": 1,
   "id": "40553752-139c-415f-93d0-d89977b3093b",
   "metadata": {},
   "outputs": [],
   "source": [
    "import fsspec\n",
    "import xarray as xr\n",
    "import s3fs"
   ]
  },
  {
   "cell_type": "code",
   "execution_count": 14,
   "id": "b1b3066f-f2cb-49e0-a3f3-024101dda704",
   "metadata": {},
   "outputs": [],
   "source": [
    "url = 'gs://pilot-hubs-scratch-ohw/miost/science'\n",
    "fs, path = fsspec.url_to_fs(url)"
   ]
  },
  {
   "cell_type": "code",
   "execution_count": 15,
   "id": "09dd6bf2-58dd-4db2-b214-c72a877155f2",
   "metadata": {},
   "outputs": [
    {
     "data": {
      "text/plain": [
       "['pilot-hubs-scratch-ohw/miost/science/',\n",
       " 'pilot-hubs-scratch-ohw/miost/science/dt_global_allsat_phy_l4_20230710_20240501.nc',\n",
       " 'pilot-hubs-scratch-ohw/miost/science/dt_global_allsat_phy_l4_20230711_20240501.nc',\n",
       " 'pilot-hubs-scratch-ohw/miost/science/dt_global_allsat_phy_l4_20230712_20240501.nc',\n",
       " 'pilot-hubs-scratch-ohw/miost/science/dt_global_allsat_phy_l4_20230713_20240501.nc',\n",
       " 'pilot-hubs-scratch-ohw/miost/science/dt_global_allsat_phy_l4_20230714_20240501.nc',\n",
       " 'pilot-hubs-scratch-ohw/miost/science/dt_global_allsat_phy_l4_20230715_20240501.nc',\n",
       " 'pilot-hubs-scratch-ohw/miost/science/dt_global_allsat_phy_l4_20230716_20240501.nc',\n",
       " 'pilot-hubs-scratch-ohw/miost/science/dt_global_allsat_phy_l4_20230717_20240501.nc',\n",
       " 'pilot-hubs-scratch-ohw/miost/science/dt_global_allsat_phy_l4_20230718_20240501.nc',\n",
       " 'pilot-hubs-scratch-ohw/miost/science/dt_global_allsat_phy_l4_20230719_20240501.nc',\n",
       " 'pilot-hubs-scratch-ohw/miost/science/dt_global_allsat_phy_l4_20230720_20240501.nc',\n",
       " 'pilot-hubs-scratch-ohw/miost/science/dt_global_allsat_phy_l4_20230721_20240501.nc',\n",
       " 'pilot-hubs-scratch-ohw/miost/science/dt_global_allsat_phy_l4_20230722_20240501.nc',\n",
       " 'pilot-hubs-scratch-ohw/miost/science/dt_global_allsat_phy_l4_20230723_20240501.nc',\n",
       " 'pilot-hubs-scratch-ohw/miost/science/dt_global_allsat_phy_l4_20230724_20240501.nc',\n",
       " 'pilot-hubs-scratch-ohw/miost/science/dt_global_allsat_phy_l4_20230725_20240501.nc',\n",
       " 'pilot-hubs-scratch-ohw/miost/science/dt_global_allsat_phy_l4_20230726_20240501.nc',\n",
       " 'pilot-hubs-scratch-ohw/miost/science/dt_global_allsat_phy_l4_20230727_20240501.nc',\n",
       " 'pilot-hubs-scratch-ohw/miost/science/dt_global_allsat_phy_l4_20230728_20240501.nc',\n",
       " 'pilot-hubs-scratch-ohw/miost/science/dt_global_allsat_phy_l4_20230729_20240501.nc',\n",
       " 'pilot-hubs-scratch-ohw/miost/science/dt_global_allsat_phy_l4_20230730_20240501.nc',\n",
       " 'pilot-hubs-scratch-ohw/miost/science/dt_global_allsat_phy_l4_20230731_20240501.nc',\n",
       " 'pilot-hubs-scratch-ohw/miost/science/dt_global_allsat_phy_l4_20230801_20240501.nc',\n",
       " 'pilot-hubs-scratch-ohw/miost/science/dt_global_allsat_phy_l4_20230802_20240501.nc',\n",
       " 'pilot-hubs-scratch-ohw/miost/science/dt_global_allsat_phy_l4_20230803_20240501.nc',\n",
       " 'pilot-hubs-scratch-ohw/miost/science/dt_global_allsat_phy_l4_20230804_20240501.nc',\n",
       " 'pilot-hubs-scratch-ohw/miost/science/dt_global_allsat_phy_l4_20230805_20240501.nc',\n",
       " 'pilot-hubs-scratch-ohw/miost/science/dt_global_allsat_phy_l4_20230806_20240501.nc',\n",
       " 'pilot-hubs-scratch-ohw/miost/science/dt_global_allsat_phy_l4_20230807_20240501.nc',\n",
       " 'pilot-hubs-scratch-ohw/miost/science/dt_global_allsat_phy_l4_20230808_20240501.nc',\n",
       " 'pilot-hubs-scratch-ohw/miost/science/dt_global_allsat_phy_l4_20230809_20240501.nc',\n",
       " 'pilot-hubs-scratch-ohw/miost/science/dt_global_allsat_phy_l4_20230810_20240501.nc',\n",
       " 'pilot-hubs-scratch-ohw/miost/science/dt_global_allsat_phy_l4_20230811_20240501.nc',\n",
       " 'pilot-hubs-scratch-ohw/miost/science/dt_global_allsat_phy_l4_20230812_20240501.nc',\n",
       " 'pilot-hubs-scratch-ohw/miost/science/dt_global_allsat_phy_l4_20230813_20240501.nc',\n",
       " 'pilot-hubs-scratch-ohw/miost/science/dt_global_allsat_phy_l4_20230814_20240501.nc',\n",
       " 'pilot-hubs-scratch-ohw/miost/science/dt_global_allsat_phy_l4_20230815_20240501.nc',\n",
       " 'pilot-hubs-scratch-ohw/miost/science/dt_global_allsat_phy_l4_20230816_20240501.nc',\n",
       " 'pilot-hubs-scratch-ohw/miost/science/dt_global_allsat_phy_l4_20230817_20240501.nc',\n",
       " 'pilot-hubs-scratch-ohw/miost/science/dt_global_allsat_phy_l4_20230818_20240501.nc',\n",
       " 'pilot-hubs-scratch-ohw/miost/science/dt_global_allsat_phy_l4_20230819_20240501.nc',\n",
       " 'pilot-hubs-scratch-ohw/miost/science/dt_global_allsat_phy_l4_20230820_20240501.nc',\n",
       " 'pilot-hubs-scratch-ohw/miost/science/dt_global_allsat_phy_l4_20230821_20240501.nc',\n",
       " 'pilot-hubs-scratch-ohw/miost/science/dt_global_allsat_phy_l4_20230822_20240501.nc',\n",
       " 'pilot-hubs-scratch-ohw/miost/science/dt_global_allsat_phy_l4_20230823_20240501.nc',\n",
       " 'pilot-hubs-scratch-ohw/miost/science/dt_global_allsat_phy_l4_20230824_20240501.nc',\n",
       " 'pilot-hubs-scratch-ohw/miost/science/dt_global_allsat_phy_l4_20230825_20240501.nc',\n",
       " 'pilot-hubs-scratch-ohw/miost/science/dt_global_allsat_phy_l4_20230826_20240501.nc',\n",
       " 'pilot-hubs-scratch-ohw/miost/science/dt_global_allsat_phy_l4_20230827_20240501.nc',\n",
       " 'pilot-hubs-scratch-ohw/miost/science/dt_global_allsat_phy_l4_20230828_20240501.nc',\n",
       " 'pilot-hubs-scratch-ohw/miost/science/dt_global_allsat_phy_l4_20230829_20240501.nc',\n",
       " 'pilot-hubs-scratch-ohw/miost/science/dt_global_allsat_phy_l4_20230830_20240501.nc',\n",
       " 'pilot-hubs-scratch-ohw/miost/science/dt_global_allsat_phy_l4_20230831_20240501.nc',\n",
       " 'pilot-hubs-scratch-ohw/miost/science/dt_global_allsat_phy_l4_20230901_20240501.nc',\n",
       " 'pilot-hubs-scratch-ohw/miost/science/dt_global_allsat_phy_l4_20230902_20240501.nc',\n",
       " 'pilot-hubs-scratch-ohw/miost/science/dt_global_allsat_phy_l4_20230903_20240501.nc',\n",
       " 'pilot-hubs-scratch-ohw/miost/science/dt_global_allsat_phy_l4_20230904_20240501.nc',\n",
       " 'pilot-hubs-scratch-ohw/miost/science/dt_global_allsat_phy_l4_20230905_20240501.nc',\n",
       " 'pilot-hubs-scratch-ohw/miost/science/dt_global_allsat_phy_l4_20230906_20240501.nc',\n",
       " 'pilot-hubs-scratch-ohw/miost/science/dt_global_allsat_phy_l4_20230907_20240501.nc',\n",
       " 'pilot-hubs-scratch-ohw/miost/science/dt_global_allsat_phy_l4_20230908_20240501.nc',\n",
       " 'pilot-hubs-scratch-ohw/miost/science/dt_global_allsat_phy_l4_20230909_20240501.nc',\n",
       " 'pilot-hubs-scratch-ohw/miost/science/dt_global_allsat_phy_l4_20230910_20240501.nc',\n",
       " 'pilot-hubs-scratch-ohw/miost/science/dt_global_allsat_phy_l4_20230911_20240501.nc',\n",
       " 'pilot-hubs-scratch-ohw/miost/science/dt_global_allsat_phy_l4_20230912_20240501.nc',\n",
       " 'pilot-hubs-scratch-ohw/miost/science/dt_global_allsat_phy_l4_20230913_20240501.nc',\n",
       " 'pilot-hubs-scratch-ohw/miost/science/dt_global_allsat_phy_l4_20230914_20240501.nc',\n",
       " 'pilot-hubs-scratch-ohw/miost/science/dt_global_allsat_phy_l4_20230915_20240501.nc',\n",
       " 'pilot-hubs-scratch-ohw/miost/science/dt_global_allsat_phy_l4_20230916_20240501.nc',\n",
       " 'pilot-hubs-scratch-ohw/miost/science/dt_global_allsat_phy_l4_20230917_20240501.nc',\n",
       " 'pilot-hubs-scratch-ohw/miost/science/dt_global_allsat_phy_l4_20230918_20240501.nc',\n",
       " 'pilot-hubs-scratch-ohw/miost/science/dt_global_allsat_phy_l4_20230919_20240501.nc',\n",
       " 'pilot-hubs-scratch-ohw/miost/science/dt_global_allsat_phy_l4_20230920_20240501.nc',\n",
       " 'pilot-hubs-scratch-ohw/miost/science/dt_global_allsat_phy_l4_20230921_20240501.nc',\n",
       " 'pilot-hubs-scratch-ohw/miost/science/dt_global_allsat_phy_l4_20230922_20240501.nc',\n",
       " 'pilot-hubs-scratch-ohw/miost/science/dt_global_allsat_phy_l4_20230923_20240501.nc',\n",
       " 'pilot-hubs-scratch-ohw/miost/science/dt_global_allsat_phy_l4_20230924_20240501.nc',\n",
       " 'pilot-hubs-scratch-ohw/miost/science/dt_global_allsat_phy_l4_20230925_20240501.nc',\n",
       " 'pilot-hubs-scratch-ohw/miost/science/dt_global_allsat_phy_l4_20230926_20240501.nc',\n",
       " 'pilot-hubs-scratch-ohw/miost/science/dt_global_allsat_phy_l4_20230927_20240501.nc',\n",
       " 'pilot-hubs-scratch-ohw/miost/science/dt_global_allsat_phy_l4_20230928_20240501.nc',\n",
       " 'pilot-hubs-scratch-ohw/miost/science/dt_global_allsat_phy_l4_20230929_20240501.nc',\n",
       " 'pilot-hubs-scratch-ohw/miost/science/dt_global_allsat_phy_l4_20230930_20240501.nc',\n",
       " 'pilot-hubs-scratch-ohw/miost/science/dt_global_allsat_phy_l4_20231001_20240501.nc',\n",
       " 'pilot-hubs-scratch-ohw/miost/science/dt_global_allsat_phy_l4_20231002_20240501.nc',\n",
       " 'pilot-hubs-scratch-ohw/miost/science/dt_global_allsat_phy_l4_20231003_20240501.nc',\n",
       " 'pilot-hubs-scratch-ohw/miost/science/dt_global_allsat_phy_l4_20231004_20240501.nc',\n",
       " 'pilot-hubs-scratch-ohw/miost/science/dt_global_allsat_phy_l4_20231005_20240501.nc',\n",
       " 'pilot-hubs-scratch-ohw/miost/science/dt_global_allsat_phy_l4_20231006_20240501.nc',\n",
       " 'pilot-hubs-scratch-ohw/miost/science/dt_global_allsat_phy_l4_20231007_20240501.nc',\n",
       " 'pilot-hubs-scratch-ohw/miost/science/dt_global_allsat_phy_l4_20231008_20240501.nc',\n",
       " 'pilot-hubs-scratch-ohw/miost/science/dt_global_allsat_phy_l4_20231009_20240501.nc',\n",
       " 'pilot-hubs-scratch-ohw/miost/science/dt_global_allsat_phy_l4_20231010_20240501.nc',\n",
       " 'pilot-hubs-scratch-ohw/miost/science/dt_global_allsat_phy_l4_20231011_20240501.nc',\n",
       " 'pilot-hubs-scratch-ohw/miost/science/dt_global_allsat_phy_l4_20231012_20240501.nc',\n",
       " 'pilot-hubs-scratch-ohw/miost/science/dt_global_allsat_phy_l4_20231013_20240501.nc',\n",
       " 'pilot-hubs-scratch-ohw/miost/science/dt_global_allsat_phy_l4_20231014_20240501.nc',\n",
       " 'pilot-hubs-scratch-ohw/miost/science/dt_global_allsat_phy_l4_20231015_20240501.nc',\n",
       " 'pilot-hubs-scratch-ohw/miost/science/dt_global_allsat_phy_l4_20231016_20240501.nc',\n",
       " 'pilot-hubs-scratch-ohw/miost/science/dt_global_allsat_phy_l4_20231017_20240501.nc',\n",
       " 'pilot-hubs-scratch-ohw/miost/science/dt_global_allsat_phy_l4_20231018_20240501.nc',\n",
       " 'pilot-hubs-scratch-ohw/miost/science/dt_global_allsat_phy_l4_20231019_20240501.nc',\n",
       " 'pilot-hubs-scratch-ohw/miost/science/dt_global_allsat_phy_l4_20231020_20240501.nc',\n",
       " 'pilot-hubs-scratch-ohw/miost/science/dt_global_allsat_phy_l4_20231021_20240501.nc',\n",
       " 'pilot-hubs-scratch-ohw/miost/science/dt_global_allsat_phy_l4_20231022_20240501.nc',\n",
       " 'pilot-hubs-scratch-ohw/miost/science/dt_global_allsat_phy_l4_20231023_20240501.nc',\n",
       " 'pilot-hubs-scratch-ohw/miost/science/dt_global_allsat_phy_l4_20231024_20240501.nc',\n",
       " 'pilot-hubs-scratch-ohw/miost/science/dt_global_allsat_phy_l4_20231025_20240501.nc',\n",
       " 'pilot-hubs-scratch-ohw/miost/science/dt_global_allsat_phy_l4_20231026_20240501.nc',\n",
       " 'pilot-hubs-scratch-ohw/miost/science/dt_global_allsat_phy_l4_20231027_20240501.nc',\n",
       " 'pilot-hubs-scratch-ohw/miost/science/dt_global_allsat_phy_l4_20231028_20240501.nc',\n",
       " 'pilot-hubs-scratch-ohw/miost/science/dt_global_allsat_phy_l4_20231029_20240501.nc',\n",
       " 'pilot-hubs-scratch-ohw/miost/science/dt_global_allsat_phy_l4_20231030_20240501.nc',\n",
       " 'pilot-hubs-scratch-ohw/miost/science/dt_global_allsat_phy_l4_20231031_20240501.nc',\n",
       " 'pilot-hubs-scratch-ohw/miost/science/dt_global_allsat_phy_l4_20231101_20240501.nc',\n",
       " 'pilot-hubs-scratch-ohw/miost/science/dt_global_allsat_phy_l4_20231102_20240501.nc',\n",
       " 'pilot-hubs-scratch-ohw/miost/science/dt_global_allsat_phy_l4_20231103_20240501.nc',\n",
       " 'pilot-hubs-scratch-ohw/miost/science/dt_global_allsat_phy_l4_20231104_20240501.nc',\n",
       " 'pilot-hubs-scratch-ohw/miost/science/dt_global_allsat_phy_l4_20231105_20240501.nc',\n",
       " 'pilot-hubs-scratch-ohw/miost/science/dt_global_allsat_phy_l4_20231106_20240501.nc',\n",
       " 'pilot-hubs-scratch-ohw/miost/science/dt_global_allsat_phy_l4_20231107_20240501.nc',\n",
       " 'pilot-hubs-scratch-ohw/miost/science/dt_global_allsat_phy_l4_20231108_20240501.nc',\n",
       " 'pilot-hubs-scratch-ohw/miost/science/dt_global_allsat_phy_l4_20231109_20240501.nc',\n",
       " 'pilot-hubs-scratch-ohw/miost/science/dt_global_allsat_phy_l4_20231110_20240501.nc',\n",
       " 'pilot-hubs-scratch-ohw/miost/science/dt_global_allsat_phy_l4_20231111_20240501.nc',\n",
       " 'pilot-hubs-scratch-ohw/miost/science/dt_global_allsat_phy_l4_20231112_20240501.nc',\n",
       " 'pilot-hubs-scratch-ohw/miost/science/dt_global_allsat_phy_l4_20231113_20240501.nc',\n",
       " 'pilot-hubs-scratch-ohw/miost/science/dt_global_allsat_phy_l4_20231114_20240501.nc',\n",
       " 'pilot-hubs-scratch-ohw/miost/science/dt_global_allsat_phy_l4_20231115_20240501.nc',\n",
       " 'pilot-hubs-scratch-ohw/miost/science/dt_global_allsat_phy_l4_20231116_20240501.nc',\n",
       " 'pilot-hubs-scratch-ohw/miost/science/dt_global_allsat_phy_l4_20231117_20240501.nc',\n",
       " 'pilot-hubs-scratch-ohw/miost/science/dt_global_allsat_phy_l4_20231118_20240501.nc',\n",
       " 'pilot-hubs-scratch-ohw/miost/science/dt_global_allsat_phy_l4_20231119_20240501.nc',\n",
       " 'pilot-hubs-scratch-ohw/miost/science/dt_global_allsat_phy_l4_20231120_20240501.nc',\n",
       " 'pilot-hubs-scratch-ohw/miost/science/dt_global_allsat_phy_l4_20231121_20240501.nc',\n",
       " 'pilot-hubs-scratch-ohw/miost/science/dt_global_allsat_phy_l4_20231122_20240501.nc',\n",
       " 'pilot-hubs-scratch-ohw/miost/science/dt_global_allsat_phy_l4_20231123_20240501.nc',\n",
       " 'pilot-hubs-scratch-ohw/miost/science/dt_global_allsat_phy_l4_20231124_20240501.nc',\n",
       " 'pilot-hubs-scratch-ohw/miost/science/dt_global_allsat_phy_l4_20231125_20240501.nc',\n",
       " 'pilot-hubs-scratch-ohw/miost/science/dt_global_allsat_phy_l4_20231126_20240501.nc',\n",
       " 'pilot-hubs-scratch-ohw/miost/science/dt_global_allsat_phy_l4_20231127_20240501.nc',\n",
       " 'pilot-hubs-scratch-ohw/miost/science/dt_global_allsat_phy_l4_20231128_20240501.nc',\n",
       " 'pilot-hubs-scratch-ohw/miost/science/dt_global_allsat_phy_l4_20231129_20240501.nc',\n",
       " 'pilot-hubs-scratch-ohw/miost/science/dt_global_allsat_phy_l4_20231130_20240501.nc']"
      ]
     },
     "execution_count": 15,
     "metadata": {},
     "output_type": "execute_result"
    }
   ],
   "source": [
    "fs.ls(path)"
   ]
  },
  {
   "cell_type": "code",
   "execution_count": 3,
   "id": "eec40293-5e43-4e78-ac07-d2605263116a",
   "metadata": {},
   "outputs": [],
   "source": [
    "opened_files = []\n",
    "for path in fs.ls(path):\n",
    "    if '.nc' and '20230801' in path:     # changing the date here will open data from any day between july 10th and november 30th 2023\n",
    "        opened_files.append(fs.open(path)) \n",
    "swot = xr.open_mfdataset(opened_files)"
   ]
  },
  {
   "cell_type": "code",
   "execution_count": 11,
   "id": "0171e471-937f-4139-879f-999140ce68ba",
   "metadata": {},
   "outputs": [
    {
     "name": "stdout",
     "output_type": "stream",
     "text": [
      "data.csv\n"
     ]
    }
   ],
   "source": [
    "ls /home/jovyan/ohw24_proj_upSSH_us/data/"
   ]
  },
  {
   "cell_type": "code",
   "execution_count": 18,
   "id": "4396e8b4-6ee8-4e57-ac65-36739f4ae6de",
   "metadata": {},
   "outputs": [],
   "source": [
    "swot.to_netcdf('/home/jovyan/ohw24_proj_dt_global_allsat_phy_l4_20230801_20240501.nc')"
   ]
  },
  {
   "cell_type": "code",
   "execution_count": null,
   "id": "b0b40179-2570-4e1f-be07-3e34e1699853",
   "metadata": {},
   "outputs": [],
   "source": []
  }
 ],
 "metadata": {
  "kernelspec": {
   "display_name": "Python 3 (ipykernel)",
   "language": "python",
   "name": "python3"
  },
  "language_info": {
   "codemirror_mode": {
    "name": "ipython",
    "version": 3
   },
   "file_extension": ".py",
   "mimetype": "text/x-python",
   "name": "python",
   "nbconvert_exporter": "python",
   "pygments_lexer": "ipython3",
   "version": "3.12.4"
  }
 },
 "nbformat": 4,
 "nbformat_minor": 5
}
